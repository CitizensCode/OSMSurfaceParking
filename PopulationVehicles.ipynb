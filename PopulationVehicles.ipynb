{
 "cells": [
  {
   "cell_type": "code",
   "execution_count": 37,
   "metadata": {
    "collapsed": true
   },
   "outputs": [],
   "source": [
    "from pandas import DataFrame, Series\n",
    "import pandas as pd\n",
    "import plotly.plotly as py\n",
    "from plotly.graph_objs import *"
   ]
  },
  {
   "cell_type": "code",
   "execution_count": 38,
   "metadata": {
    "collapsed": true
   },
   "outputs": [],
   "source": [
    "# Locate the cansim data\n",
    "adultPopulation = \"./Data/NBAdultPopulationCansim.csv\"\n",
    "vehicleRegistrations = \"./Data/NBVehicleRegistrationsCansim.csv\""
   ]
  },
  {
   "cell_type": "code",
   "execution_count": 39,
   "metadata": {
    "collapsed": false
   },
   "outputs": [
    {
     "data": {
      "text/html": [
       "<div style=\"max-height:1000px;max-width:1500px;overflow:auto;\">\n",
       "<table border=\"1\" class=\"dataframe\">\n",
       "  <thead>\n",
       "    <tr style=\"text-align: right;\">\n",
       "      <th></th>\n",
       "      <th>New Brunswick Population 18+</th>\n",
       "    </tr>\n",
       "    <tr>\n",
       "      <th>Ref_Date</th>\n",
       "      <th></th>\n",
       "    </tr>\n",
       "  </thead>\n",
       "  <tbody>\n",
       "    <tr>\n",
       "      <th>1999</th>\n",
       "      <td>582202</td>\n",
       "    </tr>\n",
       "    <tr>\n",
       "      <th>2000</th>\n",
       "      <td>584980</td>\n",
       "    </tr>\n",
       "    <tr>\n",
       "      <th>2001</th>\n",
       "      <td>587572</td>\n",
       "    </tr>\n",
       "    <tr>\n",
       "      <th>2002</th>\n",
       "      <td>590283</td>\n",
       "    </tr>\n",
       "    <tr>\n",
       "      <th>2003</th>\n",
       "      <td>593141</td>\n",
       "    </tr>\n",
       "    <tr>\n",
       "      <th>2004</th>\n",
       "      <td>595516</td>\n",
       "    </tr>\n",
       "    <tr>\n",
       "      <th>2005</th>\n",
       "      <td>596595</td>\n",
       "    </tr>\n",
       "    <tr>\n",
       "      <th>2006</th>\n",
       "      <td>597117</td>\n",
       "    </tr>\n",
       "    <tr>\n",
       "      <th>2007</th>\n",
       "      <td>598986</td>\n",
       "    </tr>\n",
       "    <tr>\n",
       "      <th>2008</th>\n",
       "      <td>602426</td>\n",
       "    </tr>\n",
       "    <tr>\n",
       "      <th>2009</th>\n",
       "      <td>607099</td>\n",
       "    </tr>\n",
       "    <tr>\n",
       "      <th>2010</th>\n",
       "      <td>611594</td>\n",
       "    </tr>\n",
       "    <tr>\n",
       "      <th>2011</th>\n",
       "      <td>615859</td>\n",
       "    </tr>\n",
       "    <tr>\n",
       "      <th>2012</th>\n",
       "      <td>618760</td>\n",
       "    </tr>\n",
       "    <tr>\n",
       "      <th>2013</th>\n",
       "      <td>619439</td>\n",
       "    </tr>\n",
       "  </tbody>\n",
       "</table>\n",
       "</div>"
      ],
      "text/plain": [
       "          New Brunswick Population 18+\n",
       "Ref_Date                              \n",
       "1999                            582202\n",
       "2000                            584980\n",
       "2001                            587572\n",
       "2002                            590283\n",
       "2003                            593141\n",
       "2004                            595516\n",
       "2005                            596595\n",
       "2006                            597117\n",
       "2007                            598986\n",
       "2008                            602426\n",
       "2009                            607099\n",
       "2010                            611594\n",
       "2011                            615859\n",
       "2012                            618760\n",
       "2013                            619439"
      ]
     },
     "execution_count": 39,
     "metadata": {},
     "output_type": "execute_result"
    }
   ],
   "source": [
    "# Read in the population data\n",
    "pop_df = pd.read_csv(adultPopulation)\n",
    "pop_df = pop_df.drop(['GEO', 'SEX', 'AGE'], axis=1).set_index('Ref_Date')\n",
    "pop_df.columns = ['New Brunswick Population 18+']\n",
    "pop_df"
   ]
  },
  {
   "cell_type": "code",
   "execution_count": 40,
   "metadata": {
    "collapsed": false,
    "scrolled": true
   },
   "outputs": [
    {
     "data": {
      "text/html": [
       "<div style=\"max-height:1000px;max-width:1500px;overflow:auto;\">\n",
       "<table border=\"1\" class=\"dataframe\">\n",
       "  <thead>\n",
       "    <tr style=\"text-align: right;\">\n",
       "      <th></th>\n",
       "      <th>Vehicles Registered in NB &lt; 4500kg</th>\n",
       "    </tr>\n",
       "    <tr>\n",
       "      <th>Ref_Date</th>\n",
       "      <th></th>\n",
       "    </tr>\n",
       "  </thead>\n",
       "  <tbody>\n",
       "    <tr>\n",
       "      <th>1999</th>\n",
       "      <td>421796</td>\n",
       "    </tr>\n",
       "    <tr>\n",
       "      <th>2000</th>\n",
       "      <td>431284</td>\n",
       "    </tr>\n",
       "    <tr>\n",
       "      <th>2001</th>\n",
       "      <td>433600</td>\n",
       "    </tr>\n",
       "    <tr>\n",
       "      <th>2002</th>\n",
       "      <td>442703</td>\n",
       "    </tr>\n",
       "    <tr>\n",
       "      <th>2003</th>\n",
       "      <td>442259</td>\n",
       "    </tr>\n",
       "    <tr>\n",
       "      <th>2004</th>\n",
       "      <td>442592</td>\n",
       "    </tr>\n",
       "    <tr>\n",
       "      <th>2005</th>\n",
       "      <td>450489</td>\n",
       "    </tr>\n",
       "    <tr>\n",
       "      <th>2006</th>\n",
       "      <td>459671</td>\n",
       "    </tr>\n",
       "    <tr>\n",
       "      <th>2007</th>\n",
       "      <td>471013</td>\n",
       "    </tr>\n",
       "    <tr>\n",
       "      <th>2008</th>\n",
       "      <td>484797</td>\n",
       "    </tr>\n",
       "    <tr>\n",
       "      <th>2009</th>\n",
       "      <td>489507</td>\n",
       "    </tr>\n",
       "    <tr>\n",
       "      <th>2010</th>\n",
       "      <td>501145</td>\n",
       "    </tr>\n",
       "    <tr>\n",
       "      <th>2011</th>\n",
       "      <td>508423</td>\n",
       "    </tr>\n",
       "    <tr>\n",
       "      <th>2012</th>\n",
       "      <td>521925</td>\n",
       "    </tr>\n",
       "    <tr>\n",
       "      <th>2013</th>\n",
       "      <td>525614</td>\n",
       "    </tr>\n",
       "  </tbody>\n",
       "</table>\n",
       "</div>"
      ],
      "text/plain": [
       "          Vehicles Registered in NB < 4500kg\n",
       "Ref_Date                                    \n",
       "1999                                  421796\n",
       "2000                                  431284\n",
       "2001                                  433600\n",
       "2002                                  442703\n",
       "2003                                  442259\n",
       "2004                                  442592\n",
       "2005                                  450489\n",
       "2006                                  459671\n",
       "2007                                  471013\n",
       "2008                                  484797\n",
       "2009                                  489507\n",
       "2010                                  501145\n",
       "2011                                  508423\n",
       "2012                                  521925\n",
       "2013                                  525614"
      ]
     },
     "execution_count": 40,
     "metadata": {},
     "output_type": "execute_result"
    }
   ],
   "source": [
    "# Read in the registration data\n",
    "reg_df = pd.read_csv(vehicleRegistrations)\n",
    "reg_df = reg_df.drop(['REGION', 'TYPE'], axis=1).set_index('Ref_Date')\n",
    "reg_df.columns = ['Vehicles Registered in NB < 4500kg']\n",
    "reg_df"
   ]
  },
  {
   "cell_type": "code",
   "execution_count": 41,
   "metadata": {
    "collapsed": false
   },
   "outputs": [
    {
     "data": {
      "text/html": [
       "<div style=\"max-height:1000px;max-width:1500px;overflow:auto;\">\n",
       "<table border=\"1\" class=\"dataframe\">\n",
       "  <thead>\n",
       "    <tr style=\"text-align: right;\">\n",
       "      <th></th>\n",
       "      <th>Vehicles Registered in NB &lt; 4500kg</th>\n",
       "      <th>New Brunswick Population 18+</th>\n",
       "    </tr>\n",
       "    <tr>\n",
       "      <th>Ref_Date</th>\n",
       "      <th></th>\n",
       "      <th></th>\n",
       "    </tr>\n",
       "  </thead>\n",
       "  <tbody>\n",
       "    <tr>\n",
       "      <th>1999</th>\n",
       "      <td>421796</td>\n",
       "      <td>582202</td>\n",
       "    </tr>\n",
       "    <tr>\n",
       "      <th>2000</th>\n",
       "      <td>431284</td>\n",
       "      <td>584980</td>\n",
       "    </tr>\n",
       "    <tr>\n",
       "      <th>2001</th>\n",
       "      <td>433600</td>\n",
       "      <td>587572</td>\n",
       "    </tr>\n",
       "    <tr>\n",
       "      <th>2002</th>\n",
       "      <td>442703</td>\n",
       "      <td>590283</td>\n",
       "    </tr>\n",
       "    <tr>\n",
       "      <th>2003</th>\n",
       "      <td>442259</td>\n",
       "      <td>593141</td>\n",
       "    </tr>\n",
       "    <tr>\n",
       "      <th>2004</th>\n",
       "      <td>442592</td>\n",
       "      <td>595516</td>\n",
       "    </tr>\n",
       "    <tr>\n",
       "      <th>2005</th>\n",
       "      <td>450489</td>\n",
       "      <td>596595</td>\n",
       "    </tr>\n",
       "    <tr>\n",
       "      <th>2006</th>\n",
       "      <td>459671</td>\n",
       "      <td>597117</td>\n",
       "    </tr>\n",
       "    <tr>\n",
       "      <th>2007</th>\n",
       "      <td>471013</td>\n",
       "      <td>598986</td>\n",
       "    </tr>\n",
       "    <tr>\n",
       "      <th>2008</th>\n",
       "      <td>484797</td>\n",
       "      <td>602426</td>\n",
       "    </tr>\n",
       "    <tr>\n",
       "      <th>2009</th>\n",
       "      <td>489507</td>\n",
       "      <td>607099</td>\n",
       "    </tr>\n",
       "    <tr>\n",
       "      <th>2010</th>\n",
       "      <td>501145</td>\n",
       "      <td>611594</td>\n",
       "    </tr>\n",
       "    <tr>\n",
       "      <th>2011</th>\n",
       "      <td>508423</td>\n",
       "      <td>615859</td>\n",
       "    </tr>\n",
       "    <tr>\n",
       "      <th>2012</th>\n",
       "      <td>521925</td>\n",
       "      <td>618760</td>\n",
       "    </tr>\n",
       "    <tr>\n",
       "      <th>2013</th>\n",
       "      <td>525614</td>\n",
       "      <td>619439</td>\n",
       "    </tr>\n",
       "  </tbody>\n",
       "</table>\n",
       "</div>"
      ],
      "text/plain": [
       "          Vehicles Registered in NB < 4500kg  New Brunswick Population 18+\n",
       "Ref_Date                                                                  \n",
       "1999                                  421796                        582202\n",
       "2000                                  431284                        584980\n",
       "2001                                  433600                        587572\n",
       "2002                                  442703                        590283\n",
       "2003                                  442259                        593141\n",
       "2004                                  442592                        595516\n",
       "2005                                  450489                        596595\n",
       "2006                                  459671                        597117\n",
       "2007                                  471013                        598986\n",
       "2008                                  484797                        602426\n",
       "2009                                  489507                        607099\n",
       "2010                                  501145                        611594\n",
       "2011                                  508423                        615859\n",
       "2012                                  521925                        618760\n",
       "2013                                  525614                        619439"
      ]
     },
     "execution_count": 41,
     "metadata": {},
     "output_type": "execute_result"
    }
   ],
   "source": [
    "# Merge them both together\n",
    "merged = pd.merge(reg_df, pop_df, left_index=True, right_index=True)\n",
    "merged"
   ]
  },
  {
   "cell_type": "code",
   "execution_count": 42,
   "metadata": {
    "collapsed": false
   },
   "outputs": [
    {
     "data": {
      "text/plain": [
       "Ref_Date\n",
       "1999    0.724484\n",
       "2000    0.737263\n",
       "2001    0.737952\n",
       "2002    0.749984\n",
       "2003    0.745622\n",
       "2004    0.743208\n",
       "2005    0.755100\n",
       "2006    0.769817\n",
       "2007    0.786351\n",
       "2008    0.804741\n",
       "2009    0.806305\n",
       "2010    0.819408\n",
       "2011    0.825551\n",
       "2012    0.843502\n",
       "2013    0.848532\n",
       "dtype: float64"
      ]
     },
     "execution_count": 42,
     "metadata": {},
     "output_type": "execute_result"
    }
   ],
   "source": [
    "# Calculate the number of vehicles per adult\n",
    "vehic_per_adult = merged.ix[:,0] / merged.ix[:,1]\n",
    "vehic_per_adult"
   ]
  },
  {
   "cell_type": "code",
   "execution_count": 43,
   "metadata": {
    "collapsed": true
   },
   "outputs": [],
   "source": [
    "# Makes it possible to plot a pandas DataFrame in plotly\n",
    "def df_to_plotly(df):\n",
    "    \n",
    "    '''\n",
    "    Coverting a Pandas Data Frame to Plotly interface\n",
    "    '''\n",
    "    x = df.index.values\n",
    "    lines={}\n",
    "    for key in df:\n",
    "        lines[key]={}\n",
    "        lines[key][\"x\"]=x\n",
    "        lines[key][\"y\"]=df[key].values\n",
    "        lines[key][\"name\"]=key\n",
    "\n",
    "    #Appending all lines\n",
    "    lines_plotly=[lines[key] for key in df]\n",
    "    return lines_plotly"
   ]
  },
  {
   "cell_type": "code",
   "execution_count": 44,
   "metadata": {
    "collapsed": false
   },
   "outputs": [],
   "source": [
    "# Convert the data using the above function\n",
    "plotly_data = df_to_plotly(merged)"
   ]
  },
  {
   "cell_type": "code",
   "execution_count": 36,
   "metadata": {
    "collapsed": false
   },
   "outputs": [
    {
     "data": {
      "text/plain": [
       "u'https://plot.ly/~Brideau/55'"
      ]
     },
     "execution_count": 36,
     "metadata": {},
     "output_type": "execute_result"
    }
   ],
   "source": [
    "# Plot it\n",
    "py.plot(plotly_data)"
   ]
  }
 ],
 "metadata": {
  "kernelspec": {
   "display_name": "Python 2",
   "language": "python",
   "name": "python2"
  },
  "language_info": {
   "codemirror_mode": {
    "name": "ipython",
    "version": 2
   },
   "file_extension": ".py",
   "mimetype": "text/x-python",
   "name": "python",
   "nbconvert_exporter": "python",
   "pygments_lexer": "ipython2",
   "version": "2.7.9"
  }
 },
 "nbformat": 4,
 "nbformat_minor": 0
}
